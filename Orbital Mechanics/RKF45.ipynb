{
 "cells": [
  {
   "cell_type": "markdown",
   "id": "bcf2a7ee-04b7-4751-a4c4-44d140b6d4da",
   "metadata": {},
   "source": [
    "# RKF4(5) Method\n",
    "\n",
    "A form of Runge-Kutta methods combining RK4 into RK5 and using the difference in solutions to estimate the truncation error. The step size can be adjusted to keep the truncation error within bounds to make integrating differential equations more efficient."
   ]
  },
  {
   "cell_type": "code",
   "execution_count": 1,
   "id": "09a2c024-692b-4a37-b84a-42cab3e5c175",
   "metadata": {},
   "outputs": [],
   "source": [
    "import numpy as np\n",
    "\n",
    "def RKF45(ode_function, tspan, y0, tol=1e-8):\n",
    "    # * Checking inputs\n",
    "    # Checking ode_function is a vector\n",
    "    ode_size = np.shape(ode_function)\n",
    "    if not(ode_size[0] == 1 | ode_size[1] == 1):\n",
    "        return \"ode_function should be a vector\"\n",
    "    \n",
    "    # Checking tspan is correct size (2,1)\n",
    "    tspan_size = np.shape(tspan)\n",
    "    if not(tspan_size == (2,1) | tspan_size == (1,2)):\n",
    "        return \"tspan should be a 2x1 vector of t0 and t_final\"\n",
    "    \n",
    "    # Checking y0 is a vector\n",
    "    y0_size = np.shape(y0)\n",
    "    if not(y0_size[0] == 1 | y0_size[1] == 1):\n",
    "        return \"y0 should be a vector of initial conditions\"\n",
    "    \n",
    "    # * Values for calculations\n",
    "    a = np.array([0, 1/4, 3/8, 12/13, 1, 1/2])\n",
    "    b = np.array([[0, 0, 0, 0, 0],\n",
    "                  [1/4, 0, 0, 0, 0],\n",
    "                  [3/32, 9/32, 0, 0, 0],\n",
    "                  [1932/2197, -7200/2197, 7296/2197, 0, 0],\n",
    "                  [439/216, -8, 3680/513, -845/4104, 0],\n",
    "                  [-8/27, 2, -3544/2565, 1859/4104, -11/40]])\n",
    "    c4 = np.array([25/216, 0, 1408/2565, 2197/4104, -1/5, 0])\n",
    "    c5 = np.array([16/135, 0, 6656/12825, 28561/56430, -9/50, 2/55])\n",
    "    \n",
    "    # * Set up initial values\n",
    "    t0 = tspan[0]\n",
    "    t_final = tspan[1]\n",
    "    t = t0\n",
    "    y = y0\n",
    "    h = (t_final - t0)/100\n",
    "    \n",
    "    # * Solve equations\n",
    "    while (t < t_final):\n",
    "        h_min = 16*np.finfo(np.float64).eps\n",
    "        ti = t \n",
    "        yi = y \n",
    "        \n",
    "        # Evaluate time derivatives at 6 points in the interval\n",
    "        for i in range(6):\n",
    "            t_inner = ti+a[i]*h\n",
    "            y_inner = yi\n",
    "            \n",
    "            for j in range(5):\n",
    "                y_inner = y_inner + h*b[i, j]*f[:,j]"
   ]
  },
  {
   "cell_type": "code",
   "execution_count": null,
   "id": "885b7e7e-028b-406e-81d0-f7b2f8bef349",
   "metadata": {},
   "outputs": [],
   "source": []
  }
 ],
 "metadata": {
  "kernelspec": {
   "display_name": "Python 3 (ipykernel)",
   "language": "python",
   "name": "python3"
  },
  "language_info": {
   "codemirror_mode": {
    "name": "ipython",
    "version": 3
   },
   "file_extension": ".py",
   "mimetype": "text/x-python",
   "name": "python",
   "nbconvert_exporter": "python",
   "pygments_lexer": "ipython3",
   "version": "3.10.0"
  }
 },
 "nbformat": 4,
 "nbformat_minor": 5
}
