{
 "cells": [
  {
   "cell_type": "markdown",
   "id": "5b3d426f-813f-49ba-be36-1aea6f45b224",
   "metadata": {},
   "source": [
    "# Two Body Problem Relative to an Inertial Frame\n",
    "\n",
    "Solves the inertial two-body problem in three dimensions using the RKF4(5) method."
   ]
  },
  {
   "cell_type": "markdown",
   "id": "6aea4696-2495-44d0-8287-d6ea1a78073a",
   "metadata": {},
   "source": [
    "### Import libraries and modules"
   ]
  },
  {
   "cell_type": "code",
   "execution_count": 3,
   "id": "5650f47d-9cca-4106-9efe-9ae3f9697868",
   "metadata": {},
   "outputs": [],
   "source": [
    "import numpy as np\n",
    "from scipy.integrate import solve_ivp\n",
    "import numpy.linalg as linalg"
   ]
  },
  {
   "cell_type": "markdown",
   "id": "b3adb9d4-7534-47df-add1-0bf0d3be1ebb",
   "metadata": {},
   "source": [
    "### Set up initial conditions"
   ]
  },
  {
   "cell_type": "code",
   "execution_count": 4,
   "id": "ae00f860-a442-41c3-b41c-141f46d62bd7",
   "metadata": {},
   "outputs": [],
   "source": [
    "mass = np.array([1e26, 1e26])\n",
    "\n",
    "R1_0 = np.array([0, 0, 0])\n",
    "R2_0 = np.array([3000, 0, 0])\n",
    "V1_0 = np.array([10, 20, 30])\n",
    "V2_0 = np.array([0, 40, 0])\n",
    "\n",
    "y0 = np.concatenate((R1_0, R2_0, V1_0, V2_0))\n",
    "\n",
    "tspan = np.array([0, 480])"
   ]
  },
  {
   "cell_type": "markdown",
   "id": "500093b5-c726-43d9-bd90-b48211d9ab52",
   "metadata": {},
   "source": [
    "### Main function"
   ]
  },
  {
   "cell_type": "code",
   "execution_count": null,
   "id": "9c4064f6-380f-49a0-b2cf-d586cfc4e2f9",
   "metadata": {},
   "outputs": [],
   "source": [
    "def two_body(mass, y0, tspan):\n",
    "    # Gravitational constant\n",
    "    G = 6.67259e-20\n",
    "    \n",
    "    # Position vectors of m1 and m2\n",
    "    R1 = y0[0:3]\n",
    "    R2 = y0[3:6]\n",
    "    \n",
    "    # Velocity vectors of m1 and m2\n",
    "    V1 = y0[6:9]\n",
    "    V2 = y0[9:12]\n",
    "    \n",
    "    # Acceleration vectors of m1 and m2\n",
    "    r = linalg.norm(R2-R1)\n",
    "    A1 = G*mass[1]*(R2-R1)/(r**3)\n",
    "    A2 = G*mass[0]*(R2-R1)/(r**3)\n",
    "    \n",
    "    # Integrate equations of motion\n",
    "    dydt = [V1, V2, A1, A2]\n",
    "    answer = solve_ivp(dydt, tspan, y0, method=\"RK45\")\n",
    "    \n",
    "    return answer"
   ]
  },
  {
   "cell_type": "markdown",
   "id": "d5f49797-3ce1-47a4-b487-f9c0125fd31a",
   "metadata": {},
   "source": [
    "### Run function"
   ]
  },
  {
   "cell_type": "code",
   "execution_count": null,
   "id": "11e0b6e8-6ee0-4749-b2a8-12c0f320b501",
   "metadata": {},
   "outputs": [],
   "source": [
    "answer = two_body(mass, y0, tspan)\n",
    "answer"
   ]
  }
 ],
 "metadata": {
  "kernelspec": {
   "display_name": "Python 3 (ipykernel)",
   "language": "python",
   "name": "python3"
  },
  "language_info": {
   "codemirror_mode": {
    "name": "ipython",
    "version": 3
   },
   "file_extension": ".py",
   "mimetype": "text/x-python",
   "name": "python",
   "nbconvert_exporter": "python",
   "pygments_lexer": "ipython3",
   "version": "3.10.0"
  }
 },
 "nbformat": 4,
 "nbformat_minor": 5
}
